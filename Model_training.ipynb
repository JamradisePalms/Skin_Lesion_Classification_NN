{
 "cells": [
  {
   "cell_type": "code",
   "execution_count": 1,
   "id": "pXrdTlDHYBnX",
   "metadata": {
    "colab": {
     "base_uri": "https://localhost:8080/"
    },
    "id": "pXrdTlDHYBnX",
    "outputId": "b4ac006d-d3f5-4e48-bd03-8922f61595c1"
   },
   "outputs": [],
   "source": [
    "# from google.colab import drive\n",
    "# drive.mount('/content/drive')"
   ]
  },
  {
   "cell_type": "code",
   "execution_count": 2,
   "id": "r3gbYQuXadR_",
   "metadata": {
    "colab": {
     "base_uri": "https://localhost:8080/"
    },
    "id": "r3gbYQuXadR_",
    "outputId": "91ec6d3b-b180-4fed-8b71-a805223d6dc1"
   },
   "outputs": [
    {
     "name": "stdout",
     "output_type": "stream",
     "text": [
      "[WinError 3] Системе не удается найти указанный путь: '/content/drive/MyDrive/Skin_cancer_NN'\n",
      "C:\\Users\\shari\\PycharmProjects\\Cancer_Classification\n"
     ]
    }
   ],
   "source": [
    "%cd /content/drive/MyDrive/Skin_cancer_NN"
   ]
  },
  {
   "cell_type": "code",
   "execution_count": 3,
   "id": "e3611333",
   "metadata": {
    "id": "e3611333"
   },
   "outputs": [],
   "source": [
    "import torch\n",
    "import torch.nn as nn\n",
    "from ModelSelection import Net\n",
    "import pandas as pd\n",
    "import numpy as np\n",
    "import matplotlib.pyplot as plt\n",
    "device = 'cuda' if torch.cuda.is_available() else 'cpu'"
   ]
  },
  {
   "cell_type": "code",
   "execution_count": 4,
   "id": "2d6b0196",
   "metadata": {
    "id": "2d6b0196"
   },
   "outputs": [],
   "source": [
    "class EarlyStopper:\n",
    "    def __init__(self, patience=1, min_delta=0):\n",
    "        self.patience = patience\n",
    "        self.min_delta = min_delta\n",
    "        self.counter = 0\n",
    "        self.min_validation_loss = float('inf')\n",
    "\n",
    "    def early_stop(self, validation_loss):\n",
    "        if validation_loss < self.min_validation_loss:\n",
    "            self.min_validation_loss = validation_loss\n",
    "            self.counter = 0\n",
    "        elif validation_loss > (self.min_validation_loss + self.min_delta):\n",
    "            self.counter += 1\n",
    "            if self.counter >= self.patience:\n",
    "                return True\n",
    "        return False"
   ]
  },
  {
   "cell_type": "code",
   "execution_count": 5,
   "id": "e73bb772",
   "metadata": {
    "id": "e73bb772"
   },
   "outputs": [],
   "source": [
    "def acc_loss_one_epoch(X_test_batch, Y_test_batch, NN_Model, criterion, device='cuda'):\n",
    "    X_test_batch = X_test_batch.to(device)\n",
    "    Y_test_batch = Y_test_batch.to(device)\n",
    "    pred = NN_Model(X_test_batch)\n",
    "    preds = torch.argmax(pred, dim=1)\n",
    "    true_preds = torch.argmax(Y_test_batch, dim=1)\n",
    "    acc = (preds == true_preds).cpu().numpy().mean()\n",
    "    pred = pred.to(device)\n",
    "    loss = criterion(pred, Y_test_batch)\n",
    "    return acc, loss.to('cpu')"
   ]
  },
  {
   "cell_type": "code",
   "execution_count": 6,
   "id": "61a43b95",
   "metadata": {
    "colab": {
     "base_uri": "https://localhost:8080/"
    },
    "id": "61a43b95",
    "outputId": "f66da268-94e6-4b54-e3ad-c51a95c54634"
   },
   "outputs": [
    {
     "data": {
      "text/plain": [
       "(3500, 3, 64, 64)"
      ]
     },
     "execution_count": 6,
     "metadata": {},
     "output_type": "execute_result"
    }
   ],
   "source": [
    "X = np.load('X_preprocessed.npy')\n",
    "Y = np.load('Y_preprocessed.npy')\n",
    "X = X.swapaxes(1, 2)\n",
    "X = X.swapaxes(1, 3)\n",
    "X.shape"
   ]
  },
  {
   "cell_type": "code",
   "execution_count": 7,
   "id": "9805dfc5",
   "metadata": {
    "id": "9805dfc5"
   },
   "outputs": [],
   "source": [
    "X = torch.tensor(X, dtype = torch.float32)\n",
    "Y = torch.tensor(Y, dtype = torch.float32)"
   ]
  },
  {
   "cell_type": "code",
   "execution_count": 8,
   "id": "8d45b3a2",
   "metadata": {
    "colab": {
     "base_uri": "https://localhost:8080/"
    },
    "id": "8d45b3a2",
    "outputId": "c24f8360-8d2d-4ae8-c3d3-cb182df8f051"
   },
   "outputs": [
    {
     "name": "stdout",
     "output_type": "stream",
     "text": [
      "torch.Size([3500, 3, 64, 64])\n"
     ]
    }
   ],
   "source": [
    "print(X.shape)\n",
    "X = X.view(3500, 3, 64, 64)"
   ]
  },
  {
   "cell_type": "code",
   "execution_count": 9,
   "id": "a364f725",
   "metadata": {
    "colab": {
     "base_uri": "https://localhost:8080/"
    },
    "id": "a364f725",
    "outputId": "5818a161-e543-4c84-fb72-8875b952f158"
   },
   "outputs": [
    {
     "data": {
      "text/plain": [
       "torch.Size([3500, 7])"
      ]
     },
     "execution_count": 9,
     "metadata": {},
     "output_type": "execute_result"
    }
   ],
   "source": [
    "Y.shape"
   ]
  },
  {
   "cell_type": "code",
   "execution_count": 10,
   "id": "657de042",
   "metadata": {
    "colab": {
     "base_uri": "https://localhost:8080/"
    },
    "id": "657de042",
    "outputId": "c4c43931-5c81-4480-ed0d-c8d23137cab4"
   },
   "outputs": [
    {
     "data": {
      "text/plain": [
       "tensor([[1., 0., 0.,  ..., 0., 0., 0.],\n",
       "        [1., 0., 0.,  ..., 0., 0., 0.],\n",
       "        [1., 0., 0.,  ..., 0., 0., 0.],\n",
       "        ...,\n",
       "        [0., 0., 0.,  ..., 0., 0., 1.],\n",
       "        [0., 0., 0.,  ..., 0., 0., 1.],\n",
       "        [0., 0., 0.,  ..., 0., 0., 1.]])"
      ]
     },
     "execution_count": 10,
     "metadata": {},
     "output_type": "execute_result"
    }
   ],
   "source": [
    "Y"
   ]
  },
  {
   "cell_type": "code",
   "execution_count": 11,
   "id": "9b42d24b",
   "metadata": {
    "id": "9b42d24b"
   },
   "outputs": [],
   "source": [
    "ConvNet = Net().to(device)"
   ]
  },
  {
   "cell_type": "code",
   "execution_count": 35,
   "id": "e2690d69",
   "metadata": {
    "id": "e2690d69"
   },
   "outputs": [],
   "source": [
    "history_loss = []\n",
    "history_val_loss = []\n",
    "history_accuracy = []\n",
    "early_stop = 50\n",
    "epochs = 500\n",
    "batch_size = 128\n",
    "lr = 0.0001"
   ]
  },
  {
   "cell_type": "code",
   "execution_count": 13,
   "id": "7ec99bc7",
   "metadata": {
    "id": "7ec99bc7"
   },
   "outputs": [],
   "source": [
    "criterion = nn.CrossEntropyLoss()\n",
    "optimizer = torch.optim.Adam(ConvNet.parameters(), lr = lr)"
   ]
  },
  {
   "cell_type": "code",
   "execution_count": 14,
   "id": "ff7f35f4",
   "metadata": {
    "id": "ff7f35f4"
   },
   "outputs": [],
   "source": [
    "from sklearn.model_selection import train_test_split\n",
    "from tqdm.notebook import tqdm"
   ]
  },
  {
   "cell_type": "code",
   "execution_count": 15,
   "id": "3c662bdc",
   "metadata": {
    "id": "3c662bdc"
   },
   "outputs": [],
   "source": [
    "X_train, X_test, Y_train, Y_test = train_test_split(X, Y, test_size = 0.2, random_state = 1, shuffle = True)"
   ]
  },
  {
   "cell_type": "code",
   "execution_count": 22,
   "id": "24bc1d0d",
   "metadata": {},
   "outputs": [],
   "source": [
    "X_test_batch = X_test[:batch_size, :, :, :]\n",
    "Y_test_batch = Y_test[:batch_size, :]"
   ]
  },
  {
   "cell_type": "code",
   "execution_count": 16,
   "id": "e83c0de6",
   "metadata": {
    "id": "e83c0de6"
   },
   "outputs": [],
   "source": [
    "from MyBatchCreator import DataLoader"
   ]
  },
  {
   "cell_type": "code",
   "execution_count": 17,
   "id": "ddf2b990",
   "metadata": {
    "colab": {
     "base_uri": "https://localhost:8080/"
    },
    "id": "ddf2b990",
    "outputId": "214ec9bd-cfec-4950-fef3-46f8de932dc8"
   },
   "outputs": [
    {
     "data": {
      "text/plain": [
       "<generator object DataLoader at 0x000001E65F68E900>"
      ]
     },
     "execution_count": 17,
     "metadata": {},
     "output_type": "execute_result"
    }
   ],
   "source": [
    "data_loader = DataLoader(X_train, Y_train, batch_size = batch_size)\n",
    "data_loader"
   ]
  },
  {
   "cell_type": "code",
   "execution_count": 18,
   "id": "8f2fad70",
   "metadata": {
    "colab": {
     "base_uri": "https://localhost:8080/"
    },
    "id": "8f2fad70",
    "outputId": "4a45dee1-1034-479a-c736-67320c0af76c"
   },
   "outputs": [
    {
     "data": {
      "text/plain": [
       "2800"
      ]
     },
     "execution_count": 18,
     "metadata": {},
     "output_type": "execute_result"
    }
   ],
   "source": [
    "X_train.shape[0]"
   ]
  },
  {
   "cell_type": "code",
   "execution_count": 19,
   "id": "21a9f2d2",
   "metadata": {
    "colab": {
     "base_uri": "https://localhost:8080/",
     "height": 35
    },
    "id": "21a9f2d2",
    "outputId": "1e20fc3c-9c0e-4046-b3aa-616986f7bab6"
   },
   "outputs": [
    {
     "data": {
      "text/plain": [
       "'cuda'"
      ]
     },
     "execution_count": 19,
     "metadata": {},
     "output_type": "execute_result"
    }
   ],
   "source": [
    "device"
   ]
  },
  {
   "cell_type": "code",
   "execution_count": 36,
   "id": "1e8c5d7f",
   "metadata": {
    "id": "1e8c5d7f"
   },
   "outputs": [],
   "source": [
    "early_stopper = EarlyStopper(patience = early_stop)"
   ]
  },
  {
   "cell_type": "code",
   "execution_count": 23,
   "id": "6da3b639",
   "metadata": {
    "colab": {
     "base_uri": "https://localhost:8080/",
     "height": 422,
     "referenced_widgets": [
      "7d26b0fd37d04a8e9fa0f915356cdb26",
      "35ae4bba2af4433a92520c4286494281",
      "9c6579946dc641be9e846cc32c178bdf",
      "7ac19f61a9024bb780e3847101dfa23d",
      "cc6fcea333f842faac4bae646774fff8",
      "0ba6408789524fbf88866c5f677568da",
      "30bbea03133a4b3583cedc4fb08e3522",
      "48ca7a75ac3645ea9563dbfad41468aa",
      "737e1264fd614571be5bc09ef66a8e99",
      "e8c299a934314758ab23cdeb2edde3c4",
      "12572c1a80ae48a880176858ca129c71"
     ]
    },
    "id": "6da3b639",
    "outputId": "54cf25ce-33b2-4407-fec0-b62a80c32e89",
    "scrolled": true
   },
   "outputs": [
    {
     "data": {
      "application/vnd.jupyter.widget-view+json": {
       "model_id": "bea0343e4e554ea5a4106843d3314d0d",
       "version_major": 2,
       "version_minor": 0
      },
      "text/plain": [
       "  0%|          | 0/500 [00:00<?, ?it/s]"
      ]
     },
     "metadata": {},
     "output_type": "display_data"
    },
    {
     "ename": "KeyboardInterrupt",
     "evalue": "",
     "output_type": "error",
     "traceback": [
      "\u001b[1;31m---------------------------------------------------------------------------\u001b[0m",
      "\u001b[1;31mKeyboardInterrupt\u001b[0m                         Traceback (most recent call last)",
      "\u001b[1;32m~\\AppData\\Local\\Temp\\ipykernel_15460\\1632766326.py\u001b[0m in \u001b[0;36m<module>\u001b[1;34m\u001b[0m\n\u001b[0;32m     17\u001b[0m         \u001b[0mloss\u001b[0m\u001b[1;33m.\u001b[0m\u001b[0mbackward\u001b[0m\u001b[1;33m(\u001b[0m\u001b[1;33m)\u001b[0m\u001b[1;33m\u001b[0m\u001b[1;33m\u001b[0m\u001b[0m\n\u001b[0;32m     18\u001b[0m         \u001b[0moptimizer\u001b[0m\u001b[1;33m.\u001b[0m\u001b[0mstep\u001b[0m\u001b[1;33m(\u001b[0m\u001b[1;33m)\u001b[0m\u001b[1;33m\u001b[0m\u001b[1;33m\u001b[0m\u001b[0m\n\u001b[1;32m---> 19\u001b[1;33m         \u001b[0mloss\u001b[0m \u001b[1;33m=\u001b[0m \u001b[0mloss\u001b[0m\u001b[1;33m.\u001b[0m\u001b[0mto\u001b[0m\u001b[1;33m(\u001b[0m\u001b[1;34m'cpu'\u001b[0m\u001b[1;33m)\u001b[0m\u001b[1;33m\u001b[0m\u001b[1;33m\u001b[0m\u001b[0m\n\u001b[0m\u001b[0;32m     20\u001b[0m         \u001b[0mrunning_loss\u001b[0m \u001b[1;33m+=\u001b[0m \u001b[0mloss\u001b[0m\u001b[1;33m.\u001b[0m\u001b[0mitem\u001b[0m\u001b[1;33m(\u001b[0m\u001b[1;33m)\u001b[0m\u001b[1;33m\u001b[0m\u001b[1;33m\u001b[0m\u001b[0m\n\u001b[0;32m     21\u001b[0m \u001b[1;33m\u001b[0m\u001b[0m\n",
      "\u001b[1;31mKeyboardInterrupt\u001b[0m: "
     ]
    }
   ],
   "source": [
    "for epoch in tqdm(range(epochs)):\n",
    "\n",
    "    running_loss = 0.0\n",
    "    data_loader = DataLoader(X_train, Y_train, batch_size = batch_size)\n",
    "\n",
    "    for batch in data_loader:\n",
    "        X_batch, Y_batch = batch\n",
    "        X_batch = X_batch.to(device)\n",
    "        Y_batch = Y_batch.to(device)\n",
    "\n",
    "        optimizer.zero_grad()\n",
    "\n",
    "        Y_pred = ConvNet(X_batch)\n",
    "        Y_pred = Y_pred.to(device)\n",
    "\n",
    "        loss = criterion(Y_pred, Y_batch)\n",
    "        loss.backward()\n",
    "        optimizer.step()\n",
    "        loss = loss.to('cpu')\n",
    "        running_loss += loss.item()\n",
    "\n",
    "    history_loss.append(running_loss / batch_size)\n",
    "    with torch.no_grad():\n",
    "      accuracy, val_loss = acc_loss_one_epoch(X_test_batch, Y_test_batch, ConvNet, criterion)\n",
    "      history_val_loss.append(val_loss)\n",
    "      history_accuracy.append(accuracy)\n",
    "      if early_stopper.early_stop(val_loss):\n",
    "          break\n",
    "      torch.cuda.empty_cache()\n",
    "print('Train is over')"
   ]
  },
  {
   "cell_type": "code",
   "execution_count": 24,
   "id": "7ac532e5",
   "metadata": {
    "colab": {
     "base_uri": "https://localhost:8080/",
     "height": 447
    },
    "id": "7ac532e5",
    "outputId": "a8c2ddc9-531f-4883-9aec-5c8a397f6571"
   },
   "outputs": [
    {
     "data": {
      "text/plain": [
       "[<matplotlib.lines.Line2D at 0x1e61d1fe790>]"
      ]
     },
     "execution_count": 24,
     "metadata": {},
     "output_type": "execute_result"
    },
    {
     "data": {
      "image/png": "[encoded data removed]",
      "text/plain": [
       "<Figure size 640x480 with 1 Axes>"
      ]
     },
     "metadata": {},
     "output_type": "display_data"
    }
   ],
   "source": [
    "plt.plot(history_loss)"
   ]
  },
  {
   "cell_type": "code",
   "execution_count": 25,
   "id": "5053a2b7",
   "metadata": {
    "colab": {
     "base_uri": "https://localhost:8080/",
     "height": 447
    },
    "id": "5053a2b7",
    "outputId": "2bf93cff-2efb-4eea-e6ea-b0b147a33255",
    "scrolled": false
   },
   "outputs": [
    {
     "data": {
      "text/plain": [
       "[<matplotlib.lines.Line2D at 0x1e6254ecb20>]"
      ]
     },
     "execution_count": 25,
     "metadata": {},
     "output_type": "execute_result"
    },
    {
     "data": {
      "image/png": "[encoded data removed]",
      "text/plain": [
       "<Figure size 640x480 with 1 Axes>"
      ]
     },
     "metadata": {},
     "output_type": "display_data"
    }
   ],
   "source": [
    "plt.plot(history_val_loss)"
   ]
  },
  {
   "cell_type": "code",
   "execution_count": 26,
   "id": "18b14cb5",
   "metadata": {
    "colab": {
     "base_uri": "https://localhost:8080/",
     "height": 447
    },
    "id": "18b14cb5",
    "outputId": "749044db-aa06-4b2d-cee6-85c4a9b67cf7"
   },
   "outputs": [
    {
     "data": {
      "text/plain": [
       "[<matplotlib.lines.Line2D at 0x1e627c0c8b0>]"
      ]
     },
     "execution_count": 26,
     "metadata": {},
     "output_type": "execute_result"
    },
    {
     "data": {
      "image/png": "[encoded data removed]",
      "text/plain": [
       "<Figure size 640x480 with 1 Axes>"
      ]
     },
     "metadata": {},
     "output_type": "display_data"
    }
   ],
   "source": [
    "plt.plot(history_accuracy)"
   ]
  },
  {
   "cell_type": "code",
   "execution_count": 27,
   "id": "b89f40e2",
   "metadata": {
    "id": "b89f40e2"
   },
   "outputs": [],
   "source": [
    "torch.cuda.empty_cache()"
   ]
  },
  {
   "cell_type": "code",
   "execution_count": 29,
   "id": "19cd1779",
   "metadata": {
    "colab": {
     "base_uri": "https://localhost:8080/"
    },
    "id": "19cd1779",
    "outputId": "d21b005e-ac4d-489d-c498-939674206439"
   },
   "outputs": [
    {
     "data": {
      "text/plain": [
       "0.875"
      ]
     },
     "execution_count": 29,
     "metadata": {},
     "output_type": "execute_result"
    }
   ],
   "source": [
    "max(history_accuracy)"
   ]
  },
  {
   "cell_type": "code",
   "execution_count": 30,
   "id": "c6a8c342",
   "metadata": {
    "id": "c6a8c342"
   },
   "outputs": [],
   "source": [
    "acc = 0\n",
    "batches = 0"
   ]
  },
  {
   "cell_type": "code",
   "execution_count": 31,
   "id": "3167e9d3",
   "metadata": {},
   "outputs": [],
   "source": [
    "test_data_loader = DataLoader(X_test, Y_test, batch_size = batch_size)"
   ]
  },
  {
   "cell_type": "code",
   "execution_count": 33,
   "id": "4b703143",
   "metadata": {},
   "outputs": [
    {
     "data": {
      "text/plain": [
       "Net(\n",
       "  (conv1): Conv2d(3, 256, kernel_size=(3, 3), stride=(1, 1))\n",
       "  (batchnorm1): BatchNorm2d(256, eps=1e-05, momentum=0.1, affine=True, track_running_stats=True)\n",
       "  (dropout): Dropout(p=0.3, inplace=False)\n",
       "  (pool): MaxPool2d(kernel_size=2, stride=2, padding=0, dilation=1, ceil_mode=False)\n",
       "  (conv2): Conv2d(256, 128, kernel_size=(3, 3), stride=(1, 1))\n",
       "  (batchnorm2): BatchNorm2d(128, eps=1e-05, momentum=0.1, affine=True, track_running_stats=True)\n",
       "  (conv3): Conv2d(128, 64, kernel_size=(3, 3), stride=(1, 1))\n",
       "  (batchnorm3): BatchNorm2d(64, eps=1e-05, momentum=0.1, affine=True, track_running_stats=True)\n",
       "  (lin1): Linear(in_features=2304, out_features=120, bias=True)\n",
       "  (lin2): Linear(in_features=120, out_features=50, bias=True)\n",
       "  (lin3): Linear(in_features=50, out_features=20, bias=True)\n",
       "  (lin4): Linear(in_features=20, out_features=7, bias=True)\n",
       ")"
      ]
     },
     "execution_count": 33,
     "metadata": {},
     "output_type": "execute_result"
    }
   ],
   "source": [
    "ConvNet.to('cpu')"
   ]
  },
  {
   "cell_type": "code",
   "execution_count": 34,
   "id": "ee3e93cf",
   "metadata": {},
   "outputs": [
    {
     "name": "stdout",
     "output_type": "stream",
     "text": [
      "Final accuracy: 0.814453125%\n"
     ]
    }
   ],
   "source": [
    "for batch in test_data_loader:\n",
    "    X_test_batch, Y_test_batch = batch\n",
    "    X_test_batch = X_test_batch.to('cpu')\n",
    "    Y_test_batch = Y_test_batch.to('cpu')\n",
    "    \n",
    "    pred = ConvNet(X_test_batch)\n",
    "    preds = torch.argmax(pred, dim=1)\n",
    "    true_preds = torch.argmax(Y_test_batch, dim=1)\n",
    "    acc += (preds == true_preds).cpu().numpy().mean()\n",
    "    batches += 1\n",
    "print(f'Final accuracy: {acc / batches}%')"
   ]
  },
  {
   "cell_type": "code",
   "execution_count": 37,
   "id": "683fb5f8",
   "metadata": {},
   "outputs": [],
   "source": [
    "torch.cuda.empty_cache()"
   ]
  },
  {
   "cell_type": "code",
   "execution_count": 39,
   "id": "c0f041d8",
   "metadata": {},
   "outputs": [],
   "source": [
    "pytorch_total_params = sum(p.numel() for p in ConvNet.parameters())"
   ]
  },
  {
   "cell_type": "code",
   "execution_count": 40,
   "id": "afaf4e78",
   "metadata": {},
   "outputs": [
    {
     "data": {
      "text/plain": [
       "660713"
      ]
     },
     "execution_count": 40,
     "metadata": {},
     "output_type": "execute_result"
    }
   ],
   "source": [
    "pytorch_total_params"
   ]
  },
  {
   "cell_type": "code",
   "execution_count": null,
   "id": "dcc99b29",
   "metadata": {},
   "outputs": [],
   "source": []
  }
 ],
 "metadata": {
  "accelerator": "GPU",
  "colab": {
   "gpuType": "T4",
   "provenance": []
  },
  "kernelspec": {
   "display_name": "Python 3 (ipykernel)",
   "language": "python",
   "name": "python3"
  },
  "language_info": {
   "codemirror_mode": {
    "name": "ipython",
    "version": 3
   },
   "file_extension": ".py",
   "mimetype": "text/x-python",
   "name": "python",
   "nbconvert_exporter": "python",
   "pygments_lexer": "ipython3",
   "version": "3.9.13"
  },
  "widgets": {
   "application/vnd.jupyter.widget-state+json": {
    "0ba6408789524fbf88866c5f677568da": {
     "model_module": "@jupyter-widgets/base",
     "model_module_version": "1.2.0",
     "model_name": "LayoutModel",
     "state": {
      "_model_module": "@jupyter-widgets/base",
      "_model_module_version": "1.2.0",
      "_model_name": "LayoutModel",
      "_view_count": null,
      "_view_module": "@jupyter-widgets/base",
      "_view_module_version": "1.2.0",
      "_view_name": "LayoutView",
      "align_content": null,
      "align_items": null,
      "align_self": null,
      "border": null,
      "bottom": null,
      "display": null,
      "flex": null,
      "flex_flow": null,
      "grid_area": null,
      "grid_auto_columns": null,
      "grid_auto_flow": null,
      "grid_auto_rows": null,
      "grid_column": null,
      "grid_gap": null,
      "grid_row": null,
      "grid_template_areas": null,
      "grid_template_columns": null,
      "grid_template_rows": null,
      "height": null,
      "justify_content": null,
      "justify_items": null,
      "left": null,
      "margin": null,
      "max_height": null,
      "max_width": null,
      "min_height": null,
      "min_width": null,
      "object_fit": null,
      "object_position": null,
      "order": null,
      "overflow": null,
      "overflow_x": null,
      "overflow_y": null,
      "padding": null,
      "right": null,
      "top": null,
      "visibility": null,
      "width": null
     }
    },
    "12572c1a80ae48a880176858ca129c71": {
     "model_module": "@jupyter-widgets/controls",
     "model_module_version": "1.5.0",
     "model_name": "DescriptionStyleModel",
     "state": {
      "_model_module": "@jupyter-widgets/controls",
      "_model_module_version": "1.5.0",
      "_model_name": "DescriptionStyleModel",
      "_view_count": null,
      "_view_module": "@jupyter-widgets/base",
      "_view_module_version": "1.2.0",
      "_view_name": "StyleView",
      "description_width": ""
     }
    },
    "30bbea03133a4b3583cedc4fb08e3522": {
     "model_module": "@jupyter-widgets/controls",
     "model_module_version": "1.5.0",
     "model_name": "DescriptionStyleModel",
     "state": {
      "_model_module": "@jupyter-widgets/controls",
      "_model_module_version": "1.5.0",
      "_model_name": "DescriptionStyleModel",
      "_view_count": null,
      "_view_module": "@jupyter-widgets/base",
      "_view_module_version": "1.2.0",
      "_view_name": "StyleView",
      "description_width": ""
     }
    },
    "35ae4bba2af4433a92520c4286494281": {
     "model_module": "@jupyter-widgets/controls",
     "model_module_version": "1.5.0",
     "model_name": "HTMLModel",
     "state": {
      "_dom_classes": [],
      "_model_module": "@jupyter-widgets/controls",
      "_model_module_version": "1.5.0",
      "_model_name": "HTMLModel",
      "_view_count": null,
      "_view_module": "@jupyter-widgets/controls",
      "_view_module_version": "1.5.0",
      "_view_name": "HTMLView",
      "description": "",
      "description_tooltip": null,
      "layout": "IPY_MODEL_0ba6408789524fbf88866c5f677568da",
      "placeholder": "​",
      "style": "IPY_MODEL_30bbea03133a4b3583cedc4fb08e3522",
      "value": "  0%"
     }
    },
    "48ca7a75ac3645ea9563dbfad41468aa": {
     "model_module": "@jupyter-widgets/base",
     "model_module_version": "1.2.0",
     "model_name": "LayoutModel",
     "state": {
      "_model_module": "@jupyter-widgets/base",
      "_model_module_version": "1.2.0",
      "_model_name": "LayoutModel",
      "_view_count": null,
      "_view_module": "@jupyter-widgets/base",
      "_view_module_version": "1.2.0",
      "_view_name": "LayoutView",
      "align_content": null,
      "align_items": null,
      "align_self": null,
      "border": null,
      "bottom": null,
      "display": null,
      "flex": null,
      "flex_flow": null,
      "grid_area": null,
      "grid_auto_columns": null,
      "grid_auto_flow": null,
      "grid_auto_rows": null,
      "grid_column": null,
      "grid_gap": null,
      "grid_row": null,
      "grid_template_areas": null,
      "grid_template_columns": null,
      "grid_template_rows": null,
      "height": null,
      "justify_content": null,
      "justify_items": null,
      "left": null,
      "margin": null,
      "max_height": null,
      "max_width": null,
      "min_height": null,
      "min_width": null,
      "object_fit": null,
      "object_position": null,
      "order": null,
      "overflow": null,
      "overflow_x": null,
      "overflow_y": null,
      "padding": null,
      "right": null,
      "top": null,
      "visibility": null,
      "width": null
     }
    },
    "737e1264fd614571be5bc09ef66a8e99": {
     "model_module": "@jupyter-widgets/controls",
     "model_module_version": "1.5.0",
     "model_name": "ProgressStyleModel",
     "state": {
      "_model_module": "@jupyter-widgets/controls",
      "_model_module_version": "1.5.0",
      "_model_name": "ProgressStyleModel",
      "_view_count": null,
      "_view_module": "@jupyter-widgets/base",
      "_view_module_version": "1.2.0",
      "_view_name": "StyleView",
      "bar_color": null,
      "description_width": ""
     }
    },
    "7ac19f61a9024bb780e3847101dfa23d": {
     "model_module": "@jupyter-widgets/controls",
     "model_module_version": "1.5.0",
     "model_name": "HTMLModel",
     "state": {
      "_dom_classes": [],
      "_model_module": "@jupyter-widgets/controls",
      "_model_module_version": "1.5.0",
      "_model_name": "HTMLModel",
      "_view_count": null,
      "_view_module": "@jupyter-widgets/controls",
      "_view_module_version": "1.5.0",
      "_view_name": "HTMLView",
      "description": "",
      "description_tooltip": null,
      "layout": "IPY_MODEL_e8c299a934314758ab23cdeb2edde3c4",
      "placeholder": "​",
      "style": "IPY_MODEL_12572c1a80ae48a880176858ca129c71",
      "value": " 0/500 [00:00&lt;?, ?it/s]"
     }
    },
    "7d26b0fd37d04a8e9fa0f915356cdb26": {
     "model_module": "@jupyter-widgets/controls",
     "model_module_version": "1.5.0",
     "model_name": "HBoxModel",
     "state": {
      "_dom_classes": [],
      "_model_module": "@jupyter-widgets/controls",
      "_model_module_version": "1.5.0",
      "_model_name": "HBoxModel",
      "_view_count": null,
      "_view_module": "@jupyter-widgets/controls",
      "_view_module_version": "1.5.0",
      "_view_name": "HBoxView",
      "box_style": "",
      "children": [
       "IPY_MODEL_35ae4bba2af4433a92520c4286494281",
       "IPY_MODEL_9c6579946dc641be9e846cc32c178bdf",
       "IPY_MODEL_7ac19f61a9024bb780e3847101dfa23d"
      ],
      "layout": "IPY_MODEL_cc6fcea333f842faac4bae646774fff8"
     }
    },
    "9c6579946dc641be9e846cc32c178bdf": {
     "model_module": "@jupyter-widgets/controls",
     "model_module_version": "1.5.0",
     "model_name": "FloatProgressModel",
     "state": {
      "_dom_classes": [],
      "_model_module": "@jupyter-widgets/controls",
      "_model_module_version": "1.5.0",
      "_model_name": "FloatProgressModel",
      "_view_count": null,
      "_view_module": "@jupyter-widgets/controls",
      "_view_module_version": "1.5.0",
      "_view_name": "ProgressView",
      "bar_style": "danger",
      "description": "",
      "description_tooltip": null,
      "layout": "IPY_MODEL_48ca7a75ac3645ea9563dbfad41468aa",
      "max": 500,
      "min": 0,
      "orientation": "horizontal",
      "style": "IPY_MODEL_737e1264fd614571be5bc09ef66a8e99",
      "value": 0
     }
    },
    "cc6fcea333f842faac4bae646774fff8": {
     "model_module": "@jupyter-widgets/base",
     "model_module_version": "1.2.0",
     "model_name": "LayoutModel",
     "state": {
      "_model_module": "@jupyter-widgets/base",
      "_model_module_version": "1.2.0",
      "_model_name": "LayoutModel",
      "_view_count": null,
      "_view_module": "@jupyter-widgets/base",
      "_view_module_version": "1.2.0",
      "_view_name": "LayoutView",
      "align_content": null,
      "align_items": null,
      "align_self": null,
      "border": null,
      "bottom": null,
      "display": null,
      "flex": null,
      "flex_flow": null,
      "grid_area": null,
      "grid_auto_columns": null,
      "grid_auto_flow": null,
      "grid_auto_rows": null,
      "grid_column": null,
      "grid_gap": null,
      "grid_row": null,
      "grid_template_areas": null,
      "grid_template_columns": null,
      "grid_template_rows": null,
      "height": null,
      "justify_content": null,
      "justify_items": null,
      "left": null,
      "margin": null,
      "max_height": null,
      "max_width": null,
      "min_height": null,
      "min_width": null,
      "object_fit": null,
      "object_position": null,
      "order": null,
      "overflow": null,
      "overflow_x": null,
      "overflow_y": null,
      "padding": null,
      "right": null,
      "top": null,
      "visibility": null,
      "width": null
     }
    },
    "e8c299a934314758ab23cdeb2edde3c4": {
     "model_module": "@jupyter-widgets/base",
     "model_module_version": "1.2.0",
     "model_name": "LayoutModel",
     "state": {
      "_model_module": "@jupyter-widgets/base",
      "_model_module_version": "1.2.0",
      "_model_name": "LayoutModel",
      "_view_count": null,
      "_view_module": "@jupyter-widgets/base",
      "_view_module_version": "1.2.0",
      "_view_name": "LayoutView",
      "align_content": null,
      "align_items": null,
      "align_self": null,
      "border": null,
      "bottom": null,
      "display": null,
      "flex": null,
      "flex_flow": null,
      "grid_area": null,
      "grid_auto_columns": null,
      "grid_auto_flow": null,
      "grid_auto_rows": null,
      "grid_column": null,
      "grid_gap": null,
      "grid_row": null,
      "grid_template_areas": null,
      "grid_template_columns": null,
      "grid_template_rows": null,
      "height": null,
      "justify_content": null,
      "justify_items": null,
      "left": null,
      "margin": null,
      "max_height": null,
      "max_width": null,
      "min_height": null,
      "min_width": null,
      "object_fit": null,
      "object_position": null,
      "order": null,
      "overflow": null,
      "overflow_x": null,
      "overflow_y": null,
      "padding": null,
      "right": null,
      "top": null,
      "visibility": null,
      "width": null
     }
    }
   }
  }
 },
 "nbformat": 4,
 "nbformat_minor": 5
}
